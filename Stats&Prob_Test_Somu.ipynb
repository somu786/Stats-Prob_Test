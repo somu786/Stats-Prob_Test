{
 "cells": [
  {
   "cell_type": "markdown",
   "id": "244d8cbc",
   "metadata": {},
   "source": [
    "# 1."
   ]
  },
  {
   "cell_type": "markdown",
   "id": "6cfc8fc3",
   "metadata": {},
   "source": [
    "There are 13 diamond cards in a deck of 52 cards.\n",
    "\n",
    "Let P(A) be the probability of getting a diamond card in the first draw.\n",
    "\n",
    "~ P(A) = 13/52 = 0.25\n",
    "\n",
    "Let P(B) be the probability of getting a heart card in the second draw.\n",
    "\n",
    "Since the card is not replaced,\n",
    "\n",
    "~ P(B) = 13/51 = 0.254\n",
    "\n",
    "Let P(C) be the probability of getting a spade card in the third drawn.\n",
    "\n",
    "~ P(C) = 13/50 = 0.26\n",
    "\n",
    "~ 13/52 * 13/51 * 13/50 = 169/10200 = 0.0165"
   ]
  },
  {
   "cell_type": "markdown",
   "id": "0f368c04",
   "metadata": {},
   "source": [
    "# 2."
   ]
  },
  {
   "cell_type": "markdown",
   "id": "35ffcea9",
   "metadata": {},
   "source": [
    "P(action movies) = 42/100\n",
    "P(comedy movies) = 54/100\n",
    "p(drama movies) = 36/100\n",
    "p(horror movies) = 12/100\n",
    "\n",
    "Either action or drama movies = 42/100 + 36/100\n",
    "                              = 78/100\n",
    "                              = 0.78\n",
    "                              \n",
    "Either comedy or horror movies = 54/100 + 12/100\n",
    "                               = 66/100\n",
    "                               = 0.66"
   ]
  },
  {
   "cell_type": "markdown",
   "id": "ab757f3b",
   "metadata": {},
   "source": [
    "# 3."
   ]
  },
  {
   "cell_type": "markdown",
   "id": "6ad7c203",
   "metadata": {},
   "source": [
    "Bag A = 3 red, 5 black\n",
    "Bag b = 4 white, 7 black\n",
    "\n",
    "P(A) = P(B) = 1/2\n",
    "\n",
    "P(B/A) = probability of black ball from bag A\n",
    "       = 5/8\n",
    "\n",
    "P(B/B) = 7/11\n",
    "\n",
    "P(B/B) = probability of black ball from bag b\n",
    "\n",
    "       = (p(B)*P(B/B)) / (P(A)*P(B/A)+P(B)*P(B/B))\n",
    "    \n",
    "       = (1/2 * 7/11)  / (1/2 * 5/8 + 1/2 * 7/11)\n",
    "        \n",
    "       = (7/22) / (5/16 + 7/22)\n",
    "       \n",
    "       = 7/22 * 352/222\n",
    "    \n",
    "       = 2464/4884\n",
    "        \n",
    "       = 0.5045\n",
    "        \n",
    "        "
   ]
  },
  {
   "cell_type": "markdown",
   "id": "ca7cdcc5",
   "metadata": {},
   "source": [
    "# 4."
   ]
  },
  {
   "cell_type": "markdown",
   "id": "2bb2db47",
   "metadata": {},
   "source": [
    "Given:\n",
    "      450 application in 1 hour\n",
    "     \n",
    "~ By poisson distribution\n",
    "\n",
    "a.)  Receiving 10 applications in 1 minuite\n",
    "      \n",
    "      λ = 450/60\n",
    "      \n",
    "      λ = 15/2  ,  x = 10\n",
    "      \n",
    "                 e**(-15/2) . (15/2)**10\n",
    "     P(X = x) =  ------------------------\n",
    "                          10 !\n",
    "              = 0.0858\n",
    "              \n",
    "b.) Receiving atleast 17 applications in 2 minuites..\n",
    "\n",
    "       \n",
    "                 e**(-15/2) . (15/2)**17\n",
    "     P(X = x) =  ------------------------\n",
    "                          17 ! \n",
    "              = 0.6321"
   ]
  },
  {
   "cell_type": "markdown",
   "id": "4193aa6b",
   "metadata": {},
   "source": [
    "# 5."
   ]
  },
  {
   "cell_type": "markdown",
   "id": "aaa92913",
   "metadata": {},
   "source": [
    "a.) In every year, there can be at most one patient who needs medical insurance in a family..\n",
    "b.) Likewise., In every year, the probability of a medical emergency is 0.05\n",
    "c.) The number of patients in every years period in one family..\n",
    "\n",
    "3 patients in 10 years  in one fam..\n",
    "\n",
    "\n",
    "\n",
    "Fewer than 3 patients s means all the cases where you don’t get 3 patients… If the cases where you get 3 patients is T% then the cases when you don’t get 3 patients is:\n",
    "100% - T%\n",
    "\n",
    "P(3 patients) = P(patients)^3 = 1/8\n",
    "→ T% = 12.5% → %(fewer than 3 patients) = 87.5%\n",
    "\n",
    "In general, even in case you have more than 3 patients, then:\n",
    "\n",
    "P(“fewer than 3 patients”) = P(0 patients) + P(1 patient) + P(2 patients)"
   ]
  },
  {
   "cell_type": "markdown",
   "id": "8041e4a1",
   "metadata": {},
   "source": [
    "# 6."
   ]
  },
  {
   "cell_type": "markdown",
   "id": "7fd528d8",
   "metadata": {},
   "source": [
    "z = (x-μ) / σ\n",
    "\n",
    "0.675 = (x - 350870) / 12405\n",
    "\n",
    "x = 350870 + (0.675 * 12405)\n",
    "\n",
    "x = 359237.045\n",
    "\n",
    "75th percentile = 359237.045"
   ]
  },
  {
   "cell_type": "markdown",
   "id": "0b22b2e9",
   "metadata": {},
   "source": [
    "# 7."
   ]
  },
  {
   "cell_type": "code",
   "execution_count": 7,
   "id": "95c39690",
   "metadata": {},
   "outputs": [
    {
     "name": "stdout",
     "output_type": "stream",
     "text": [
      "F-statistics: 0.9921235138705414\n"
     ]
    }
   ],
   "source": [
    "import numpy as np\n",
    "import scipy.stats\n",
    "\n",
    "union_city = [44,21,36,34,77,32,29,39,92,67,45,37]\n",
    "mountain_view = [47,81,41,79,38,20,33,83,41,40,69,36]\n",
    "\n",
    "def f_test(x, y):\n",
    "    x = np.array(x)\n",
    "    y = np.array(y)\n",
    "    f = np.var(x, ddof=1)/np.var(y, ddof=1)\n",
    "    dfn = x.size-1 \n",
    "    dfd = y.size-1 \n",
    "    p = 1-scipy.stats.f.cdf(f, dfn, dfd) \n",
    "    return f, p\n",
    "\n",
    "f,p = f_test(union_city, mountain_view)\n",
    "\n",
    "print('F-statistics:',f)"
   ]
  },
  {
   "cell_type": "markdown",
   "id": "ea9c5385",
   "metadata": {},
   "source": [
    "# 8."
   ]
  },
  {
   "cell_type": "code",
   "execution_count": 8,
   "id": "33934e8e",
   "metadata": {},
   "outputs": [
    {
     "name": "stdout",
     "output_type": "stream",
     "text": [
      "F-statistics: 1.6944444444444444\n"
     ]
    }
   ],
   "source": [
    "import numpy as np\n",
    "import scipy.stats\n",
    "# group 1, group 2, group 3\n",
    "mean = [44.5,42,46.5]\n",
    "std_dev = [5,5,8]\n",
    "# Sample size is same for all three groups so leave it...\n",
    "def f_test(x, y):\n",
    "    x = np.array(x)\n",
    "    y = np.array(y)\n",
    "    f = np.var(x, ddof=1)/np.var(y, ddof=1)\n",
    "    dfn = x.size-1 \n",
    "    dfd = y.size-1 \n",
    "    p = 1-scipy.stats.f.cdf(f, dfn, dfd) \n",
    "    return f, p\n",
    "\n",
    "f,p = f_test(mean, std_dev)\n",
    "\n",
    "print('F-statistics:',f)"
   ]
  },
  {
   "cell_type": "markdown",
   "id": "369d2085",
   "metadata": {},
   "source": [
    "# 9."
   ]
  },
  {
   "cell_type": "code",
   "execution_count": 9,
   "id": "f91d2da1",
   "metadata": {},
   "outputs": [
    {
     "name": "stdout",
     "output_type": "stream",
     "text": [
      "0.040177141568228006\n"
     ]
    }
   ],
   "source": [
    "from scipy.stats import poisson\n",
    "prob=poisson.pmf(k=80,mu=76)\n",
    "print(prob)"
   ]
  },
  {
   "cell_type": "markdown",
   "id": "4739958e",
   "metadata": {},
   "source": [
    "# 10."
   ]
  },
  {
   "cell_type": "code",
   "execution_count": 10,
   "id": "fe997f8e",
   "metadata": {},
   "outputs": [
    {
     "name": "stdout",
     "output_type": "stream",
     "text": [
      "Yes, protein supplier affect diet\n"
     ]
    }
   ],
   "source": [
    "before = [82 for j in range(25)]\n",
    "after = [95 for i in range(25)]\n",
    "from scipy.stats import ttest_ind\n",
    "\n",
    "if ttest_ind(before,after)[-1] <= 0.05 :\n",
    "    print('Yes, protein supplier affect diet')\n",
    "else:\n",
    "    print('No, protein supplier did not affect diet')"
   ]
  },
  {
   "cell_type": "markdown",
   "id": "ab4e914c",
   "metadata": {},
   "source": [
    "# 11."
   ]
  },
  {
   "cell_type": "code",
   "execution_count": 11,
   "id": "37fcee93",
   "metadata": {},
   "outputs": [
    {
     "name": "stdout",
     "output_type": "stream",
     "text": [
      "Ttest_1sampResult(statistic=0.0, pvalue=1.0)\n",
      "\n",
      "Different days of the week have the different frequency of customers\n"
     ]
    }
   ],
   "source": [
    "no_of_customers = [1419,1320,1526,1289,1620,2067,2055]\n",
    "avg = sum(no_of_customers)/len(no_of_customers)\n",
    "from scipy.stats import ttest_1samp\n",
    "test = ttest_1samp(no_of_customers,avg)\n",
    "print(test)\n",
    "print()\n",
    "if test[-1] <= 0.01 :\n",
    "    print('Different days of the week have the same frequency of customers')\n",
    "else:\n",
    "     print('Different days of the week have the different frequency of customers')"
   ]
  },
  {
   "cell_type": "markdown",
   "id": "3964f244",
   "metadata": {},
   "source": [
    "# 12."
   ]
  },
  {
   "cell_type": "code",
   "execution_count": 12,
   "id": "2d3de2f5",
   "metadata": {},
   "outputs": [
    {
     "name": "stdout",
     "output_type": "stream",
     "text": [
      "            City  No_of_deaths_in_last_month  No_of_deaths_in_current_month\n",
      "0       New York                        3406                           4398\n",
      "1     New Jersey                        1469                           1846\n",
      "2       Michigan                         662                           1288\n",
      "3     California                         583                            382\n",
      "4        Florida                         582                            879\n",
      "5  Massachusetts                         526                            430\n",
      "6          Texas                         461                            321\n",
      "\n",
      "predicted by scientist [4427.8, 1909.7, 860.6, 757.9, 756.6, 683.8, 599.3]\n",
      "\n",
      "actual current death value  [4398, 1846, 1288, 382, 879, 430, 321]\n",
      "\n",
      "difference between predicted and current [ 29.8  63.7 427.4 375.9 122.4 253.8 278.3]\n",
      "\n",
      "signicance of 0.1 [340.6, 146.9, 66.2, 58.3, 58.2, 52.6, 46.1]\n",
      "\n",
      "Ttest_indResult(statistic=-0.08484138410174252, pvalue=0.933786528927488)\n",
      "\n",
      "Not Same as Expert's prediction\n"
     ]
    }
   ],
   "source": [
    "import pandas as pd\n",
    "City = [\"New York\", \"New Jersey\", \"Michigan\", \"California\", \"Florida\", \"Massachusetts\", \"Texas\"]\n",
    "No_of_deaths_in_last_month = [3406, 1469, 662, 583, 582, 526, 461]\n",
    "No_of_deaths_in_current_month = [4398, 1846, 1288, 382, 879, 430, 321]\n",
    "df = pd.DataFrame({\"City\": City, \"No_of_deaths_in_last_month\":No_of_deaths_in_last_month, \"No_of_deaths_in_current_month\": No_of_deaths_in_current_month})\n",
    "print(df)\n",
    "predicted=[]\n",
    "significance=[]\n",
    "for i in No_of_deaths_in_last_month:\n",
    "    predicted.append((0.30*i)+i)\n",
    "    significance.append(round(0.1*i,1))\n",
    "print()    \n",
    "print(\"predicted by scientist\",predicted)\n",
    "print()\n",
    "print(\"actual current death value \",No_of_deaths_in_current_month)\n",
    "\n",
    "import numpy as np\n",
    "n_predicted=np.array(predicted)\n",
    "n_No_of_deaths_in_current_month=np.array(No_of_deaths_in_current_month)\n",
    "difference=np.absolute(n_No_of_deaths_in_current_month-n_predicted)\n",
    "print()\n",
    "print(\"difference between predicted and current\",difference)\n",
    "print()\n",
    "print(\"signicance of 0.1\",significance)\n",
    "\n",
    "print()\n",
    "\n",
    "from scipy.stats import ttest_ind\n",
    "print(ttest_ind(No_of_deaths_in_current_month,predicted))\n",
    "print()\n",
    "if (ttest_ind(No_of_deaths_in_current_month,predicted)[-1] <=0.01 ):\n",
    "    print(\"Same as Expert's prediction\")\n",
    "else:\n",
    "    print(\"Not Same as Expert's prediction\")"
   ]
  },
  {
   "cell_type": "code",
   "execution_count": null,
   "id": "9ea60f1b",
   "metadata": {},
   "outputs": [],
   "source": []
  }
 ],
 "metadata": {
  "kernelspec": {
   "display_name": "Python 3 (ipykernel)",
   "language": "python",
   "name": "python3"
  },
  "language_info": {
   "codemirror_mode": {
    "name": "ipython",
    "version": 3
   },
   "file_extension": ".py",
   "mimetype": "text/x-python",
   "name": "python",
   "nbconvert_exporter": "python",
   "pygments_lexer": "ipython3",
   "version": "3.9.7"
  }
 },
 "nbformat": 4,
 "nbformat_minor": 5
}
